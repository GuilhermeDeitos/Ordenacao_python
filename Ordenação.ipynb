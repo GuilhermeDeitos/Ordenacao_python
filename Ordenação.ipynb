{
  "nbformat": 4,
  "nbformat_minor": 0,
  "metadata": {
    "colab": {
      "name": "Ordenação.ipynb",
      "provenance": []
    },
    "kernelspec": {
      "name": "python3",
      "display_name": "Python 3"
    }
  },
  "cells": [
    {
      "cell_type": "code",
      "metadata": {
        "id": "b7SiZQLl8vgw"
      },
      "source": [
        "def bubblesort(lista):\n",
        "  aux = 0\n",
        "  for i in range(0,len(lista)):\n",
        "    for j in range(0,len(lista)):\n",
        "      if lista[i] < lista[j]:\n",
        "        aux = lista[i]\n",
        "        lista[i] = lista[j]\n",
        "        lista[j] = aux\n",
        "  return lista"
      ],
      "execution_count": 2,
      "outputs": []
    },
    {
      "cell_type": "code",
      "metadata": {
        "colab": {
          "base_uri": "https://localhost:8080/"
        },
        "id": "TKH8pKkwdU07",
        "outputId": "aeb094da-59d2-437d-f2b9-efbf15a4356b"
      },
      "source": [
        "lista = [50,45,0,6,60,15,12,4,43]\n",
        "\n",
        "print(f'BubbleSort: {bubblesort(lista)}')"
      ],
      "execution_count": 30,
      "outputs": [
        {
          "output_type": "stream",
          "text": [
            "BubbleSort: [0, 4, 6, 12, 15, 43, 45, 50, 60]\n"
          ],
          "name": "stdout"
        }
      ]
    },
    {
      "cell_type": "code",
      "metadata": {
        "id": "Zz-ORHSk8q7_"
      },
      "source": [
        "def insertSort(lista):\n",
        "  for i in range(1, len(lista)): \n",
        "        aux = lista[i] \n",
        "        j = i-1\n",
        "        while j >=0 and aux < lista[j] : \n",
        "                lista[j+1] = lista[j] \n",
        "                j -= 1\n",
        "        lista[j+1] = aux \n",
        "  return lista"
      ],
      "execution_count": 3,
      "outputs": []
    },
    {
      "cell_type": "code",
      "metadata": {
        "colab": {
          "base_uri": "https://localhost:8080/"
        },
        "id": "mOyDccLcdTEG",
        "outputId": "1ea9f14c-379e-4a68-beb7-3e0c5e447fa6"
      },
      "source": [
        "lista = [50,45,0,6,60,15,12,4,43]\n",
        "\n",
        "print(f'InsertSort: {insertSort(lista)}')"
      ],
      "execution_count": 31,
      "outputs": [
        {
          "output_type": "stream",
          "text": [
            "InsertSort: [0, 4, 6, 12, 15, 43, 45, 50, 60]\n"
          ],
          "name": "stdout"
        }
      ]
    },
    {
      "cell_type": "code",
      "metadata": {
        "id": "Wv_1gTru8yGg"
      },
      "source": [
        "def selectionSort(lista):\n",
        "  for i in range(len(lista)): \n",
        "    menor = i \n",
        "    for j in range(i+1, len(lista)): \n",
        "        if lista[menor] > lista[j]: \n",
        "            menor = j       \n",
        "    lista[i], lista[menor] = lista[menor], lista[i] \n",
        "  return lista"
      ],
      "execution_count": 4,
      "outputs": []
    },
    {
      "cell_type": "code",
      "metadata": {
        "colab": {
          "base_uri": "https://localhost:8080/"
        },
        "id": "nzBwGUbVdNBj",
        "outputId": "c118c7f3-30be-4a2a-a297-326eb467c96a"
      },
      "source": [
        "lista = [50,45,0,6,60,15,12,4,43]\n",
        "\n",
        "print(f'SelectionSort: {selectionSort(lista)}')"
      ],
      "execution_count": 32,
      "outputs": [
        {
          "output_type": "stream",
          "text": [
            "SelectionSort: [0, 4, 6, 12, 15, 43, 45, 50, 60]\n"
          ],
          "name": "stdout"
        }
      ]
    },
    {
      "cell_type": "code",
      "metadata": {
        "id": "BWnxGQuK-mtI"
      },
      "source": [
        "def quickSort(lista):\n",
        "   auxQuickSort(lista,0,len(lista)-1)\n",
        "   return lista\n",
        "\n",
        "def auxQuickSort(lista,primeiro,ultimo): #Uma função recursiva \n",
        "   if primeiro < ultimo: #isso serve para ver se é necessario continuar a ordenação\n",
        "       pontoDivisao = particao(lista,primeiro,ultimo)\n",
        "\n",
        "       auxQuickSort(lista,primeiro,pontoDivisao-1)\n",
        "       auxQuickSort(lista,pontoDivisao+1,ultimo)\n",
        "\n",
        "\n",
        "def particao(lista,primeiro,ultimo):\n",
        "   pivo = lista[primeiro] #vai pegar o primeiro elemento como pivô\n",
        "\n",
        "   esquerda = primeiro+1 #valores a esquerda do pivô\n",
        "   direita = ultimo #valores a direita do pivô\n",
        "\n",
        "   terminado = False \n",
        "   while not terminado: # caso não estiver terminado ele irá continuar\n",
        "       while esquerda <= direita and lista[esquerda] <= pivo: # Ordenação pela esquerda até encontrar um valor maior que o pivô\n",
        "           esquerda = esquerda + 1\n",
        "       while lista[direita] >= pivo and direita >= esquerda: # Ordenação pela direito até encontrar um valor menor que o pivô\n",
        "           direita = direita -1\n",
        "       if direita < esquerda: # Verá se é menor e se for está terminado\n",
        "           terminado = True\n",
        "       else:\n",
        "           aux = lista[esquerda] #caso ainda não esteja ordenado ele fará esse\n",
        "           lista[esquerda] = lista[direita]\n",
        "           lista[direita] = aux\n",
        "\n",
        "   aux = lista[primeiro]\n",
        "   lista[primeiro] = lista[direita]\n",
        "   lista[direita] = aux\n",
        "\n",
        "   return direita"
      ],
      "execution_count": 5,
      "outputs": []
    },
    {
      "cell_type": "code",
      "metadata": {
        "colab": {
          "base_uri": "https://localhost:8080/"
        },
        "id": "03Z3cdx-dGnr",
        "outputId": "76b4f1fd-1534-4ab7-c06a-8525008fc7bb"
      },
      "source": [
        "lista = [50,45,0,6,60,15,12,4,43]\n",
        "\n",
        "print(f'QuickSort: {quickSort(lista)}')"
      ],
      "execution_count": 33,
      "outputs": [
        {
          "output_type": "stream",
          "text": [
            "QuickSort: [0, 4, 6, 12, 15, 43, 45, 50, 60]\n"
          ],
          "name": "stdout"
        }
      ]
    },
    {
      "cell_type": "code",
      "metadata": {
        "id": "l2USWokF9SvS"
      },
      "source": [
        "def mergeSort(lista):\n",
        "    print(\"Dividindo\",lista) #vai mostrar todas as vezes que a lista se dividir\n",
        "    if len(lista)>1:\n",
        "        meio = len(lista)//2\n",
        "        metadeEsquerda = lista[:meio]\n",
        "        metadeDireita = lista[meio:]\n",
        "\n",
        "        mergeSort(metadeEsquerda)\n",
        "        mergeSort(metadeDireita)\n",
        "\n",
        "        i = 0\n",
        "        j = 0\n",
        "        k = 0\n",
        "        while i < len(metadeEsquerda) and j < len(metadeDireita):\n",
        "            if metadeEsquerda[i] < metadeDireita[j]:\n",
        "                lista[k]=metadeEsquerda[i]\n",
        "                i=i+1\n",
        "            else:\n",
        "                lista[k]=metadeDireita[j]\n",
        "                j=j+1\n",
        "            k=k+1\n",
        "\n",
        "        while i < len(metadeEsquerda):\n",
        "            lista[k]=metadeEsquerda[i]\n",
        "            i=i+1\n",
        "            k=k+1\n",
        "\n",
        "        while j < len(metadeDireita):\n",
        "            lista[k]=metadeDireita[j]\n",
        "            j=j+1\n",
        "            k=k+1\n",
        "    return lista"
      ],
      "execution_count": 27,
      "outputs": []
    },
    {
      "cell_type": "code",
      "metadata": {
        "colab": {
          "base_uri": "https://localhost:8080/"
        },
        "id": "-6RYt6Y1dCvf",
        "outputId": "76b6a047-d170-4e16-dd0f-8c0d98f35bf6"
      },
      "source": [
        "lista = [50,45,0,6,60,15,12,4,43]\n",
        "print(f'mergeSort: {mergeSort(lista)}')"
      ],
      "execution_count": 34,
      "outputs": [
        {
          "output_type": "stream",
          "text": [
            "Dividindo [50, 45, 0, 6, 60, 15, 12, 4, 43]\n",
            "Dividindo [50, 45, 0, 6]\n",
            "Dividindo [50, 45]\n",
            "Dividindo [50]\n",
            "Dividindo [45]\n",
            "Dividindo [0, 6]\n",
            "Dividindo [0]\n",
            "Dividindo [6]\n",
            "Dividindo [60, 15, 12, 4, 43]\n",
            "Dividindo [60, 15]\n",
            "Dividindo [60]\n",
            "Dividindo [15]\n",
            "Dividindo [12, 4, 43]\n",
            "Dividindo [12]\n",
            "Dividindo [4, 43]\n",
            "Dividindo [4]\n",
            "Dividindo [43]\n",
            "mergeSort: [0, 4, 6, 12, 15, 43, 45, 50, 60]\n"
          ],
          "name": "stdout"
        }
      ]
    }
  ]
}